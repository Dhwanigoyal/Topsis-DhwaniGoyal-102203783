{
  "nbformat": 4,
  "nbformat_minor": 0,
  "metadata": {
    "colab": {
      "provenance": [],
      "authorship_tag": "ABX9TyNySUjn8lzdE/e15HtJyxws",
      "include_colab_link": true
    },
    "kernelspec": {
      "name": "python3",
      "display_name": "Python 3"
    },
    "language_info": {
      "name": "python"
    }
  },
  "cells": [
    {
      "cell_type": "markdown",
      "metadata": {
        "id": "view-in-github",
        "colab_type": "text"
      },
      "source": [
        "<a href=\"https://colab.research.google.com/github/Dhwanigoyal/Topsis-DhwaniGoyal-102203783/blob/main/Topsis_DhwaniGoyal.ipynb\" target=\"_parent\"><img src=\"https://colab.research.google.com/assets/colab-badge.svg\" alt=\"Open In Colab\"/></a>"
      ]
    },
    {
      "cell_type": "code",
      "execution_count": null,
      "metadata": {
        "id": "QC1RlQj3xlzN",
        "colab": {
          "base_uri": "https://localhost:8080/"
        },
        "outputId": "755945f3-91cb-4cb0-eabd-dc64c679b06c"
      },
      "outputs": [
        {
          "output_type": "stream",
          "name": "stdout",
          "text": [
            "Requirement already satisfied: pandas in /usr/local/lib/python3.11/dist-packages (2.2.2)\n",
            "Requirement already satisfied: numpy in /usr/local/lib/python3.11/dist-packages (1.26.4)\n",
            "Requirement already satisfied: openpyxl in /usr/local/lib/python3.11/dist-packages (3.1.5)\n",
            "Requirement already satisfied: python-dateutil>=2.8.2 in /usr/local/lib/python3.11/dist-packages (from pandas) (2.8.2)\n",
            "Requirement already satisfied: pytz>=2020.1 in /usr/local/lib/python3.11/dist-packages (from pandas) (2024.2)\n",
            "Requirement already satisfied: tzdata>=2022.7 in /usr/local/lib/python3.11/dist-packages (from pandas) (2024.2)\n",
            "Requirement already satisfied: et-xmlfile in /usr/local/lib/python3.11/dist-packages (from openpyxl) (2.0.0)\n",
            "Requirement already satisfied: six>=1.5 in /usr/local/lib/python3.11/dist-packages (from python-dateutil>=2.8.2->pandas) (1.17.0)\n"
          ]
        }
      ],
      "source": [
        "!pip install pandas numpy openpyxl\n"
      ]
    },
    {
      "cell_type": "code",
      "source": [
        "import pandas as pd\n",
        "\n",
        "roll_number = \"102203783\"\n",
        "df = pd.read_excel(\"data.xlsx\")\n",
        "\n",
        "output_file = f\"{roll_number}-data.csv\"\n",
        "df.to_csv(output_file, index=False)\n",
        "\n",
        "print(f\"File converted to {output_file}\")\n"
      ],
      "metadata": {
        "id": "Vx2F7_-RxuKw",
        "colab": {
          "base_uri": "https://localhost:8080/"
        },
        "outputId": "95c9bdd8-f67d-4139-853a-44167d346396"
      },
      "execution_count": null,
      "outputs": [
        {
          "output_type": "stream",
          "name": "stdout",
          "text": [
            "File converted to 102203783-data.csv\n"
          ]
        }
      ]
    },
    {
      "cell_type": "code",
      "source": [
        "import pandas as pd\n",
        "\n",
        "# Load the dataset\n",
        "df = pd.read_csv(\"102203783-data.csv\")\n",
        "print(\"Dataset Preview:\")\n",
        "print(df.head())\n",
        "print(\"Number of columns (excluding the first):\", len(df.columns) - 1)\n"
      ],
      "metadata": {
        "colab": {
          "base_uri": "https://localhost:8080/"
        },
        "id": "ODkA7F39zDs6",
        "outputId": "e3377453-44cc-4fb6-de63-0a179627e97d"
      },
      "execution_count": null,
      "outputs": [
        {
          "output_type": "stream",
          "name": "stdout",
          "text": [
            "Dataset Preview:\n",
            "  Fund Name    P1    P2   P3    P4     P5\n",
            "0        M1  0.84  0.71  6.7  42.1  12.59\n",
            "1        M2  0.91  0.83  7.0  31.7  10.11\n",
            "2        M3  0.79  0.62  4.8  46.7  13.23\n",
            "3        M4  0.78  0.61  6.4  42.4  12.55\n",
            "4        M5  0.94  0.88  3.6  62.2  16.91\n",
            "Number of columns (excluding the first): 5\n"
          ]
        }
      ]
    },
    {
      "cell_type": "code",
      "source": [
        "weights = \"1,1,1,2\"\n",
        "impacts = \"+,+,-,+\"\n",
        "\n",
        "# Split and validate lengths\n",
        "weights_list = weights.split(',')\n",
        "impacts_list = impacts.split(',')\n",
        "\n",
        "print(\"Weights:\", weights_list)\n",
        "print(\"Impacts:\", impacts_list)\n",
        "print(\"Number of weights:\", len(weights_list))\n",
        "print(\"Number of impacts:\", len(impacts_list))\n"
      ],
      "metadata": {
        "colab": {
          "base_uri": "https://localhost:8080/"
        },
        "id": "YWMw4iobzG1e",
        "outputId": "24f30f04-492a-489f-ba72-662a6a323211"
      },
      "execution_count": null,
      "outputs": [
        {
          "output_type": "stream",
          "name": "stdout",
          "text": [
            "Weights: ['1', '1', '1', '2']\n",
            "Impacts: ['+', '+', '-', '+']\n",
            "Number of weights: 4\n",
            "Number of impacts: 4\n"
          ]
        }
      ]
    },
    {
      "cell_type": "code",
      "source": [
        "import pandas as pd\n",
        "import numpy as np\n",
        "\n",
        "def topsis(input_file, weights, impacts, output_file):\n",
        "    try:\n",
        "        # Load input file\n",
        "        print(f\"Loading file: {input_file}\")\n",
        "        df = pd.read_csv(input_file)\n",
        "\n",
        "        # Validate file structure\n",
        "        if len(df.columns) < 3:\n",
        "            raise ValueError(\"Input file must contain at least three columns.\")\n",
        "\n",
        "        print(f\"Dataset loaded successfully. Columns: {list(df.columns)}\")\n",
        "        print(f\"Number of columns (excluding the first): {len(df.columns) - 1}\")\n",
        "\n",
        "        # Extract data\n",
        "        variable_names = df.iloc[:, 0]\n",
        "        data = df.iloc[:, 1:]\n",
        "\n",
        "        # Validate numeric data\n",
        "        if not all(np.issubdtype(dtype, np.number) for dtype in data.dtypes):\n",
        "            raise ValueError(\"All columns except the first must contain numeric values.\")\n",
        "\n",
        "        # Parse weights and impacts\n",
        "        weights = list(map(float, weights.split(',')))\n",
        "        impacts = impacts.split(',')\n",
        "\n",
        "        print(f\"Weights: {weights}\")\n",
        "        print(f\"Impacts: {impacts}\")\n",
        "\n",
        "        # Validate weights and impacts\n",
        "        if len(weights) != data.shape[1] or len(impacts) != data.shape[1]:\n",
        "            print(f\"Number of weights: {len(weights)}\")\n",
        "            print(f\"Number of impacts: {len(impacts)}\")\n",
        "            print(f\"Number of numeric columns: {data.shape[1]}\")\n",
        "            raise ValueError(\"Number of weights and impacts must match the number of numeric columns.\")\n",
        "\n",
        "        if not all(impact in ['+', '-'] for impact in impacts):\n",
        "            raise ValueError(\"Impacts must be '+' or '-' only.\")\n",
        "\n",
        "        # Normalize the data\n",
        "        norm_data = data / np.sqrt((data**2).sum(axis=0))\n",
        "        print(\"Data normalized successfully.\")\n",
        "\n",
        "        # Apply weights\n",
        "        weighted_data = norm_data * weights\n",
        "        print(\"Weights applied successfully.\")\n",
        "\n",
        "        # Calculate ideal best and worst\n",
        "        ideal_best = []\n",
        "        ideal_worst = []\n",
        "\n",
        "        for i, impact in enumerate(impacts):\n",
        "            if impact == '+':\n",
        "                ideal_best.append(weighted_data.iloc[:, i].max())\n",
        "                ideal_worst.append(weighted_data.iloc[:, i].min())\n",
        "            else:\n",
        "                ideal_best.append(weighted_data.iloc[:, i].min())\n",
        "                ideal_worst.append(weighted_data.iloc[:, i].max())\n",
        "\n",
        "        print(f\"Ideal Best: {ideal_best}\")\n",
        "        print(f\"Ideal Worst: {ideal_worst}\")\n",
        "\n",
        "        # Calculate distances\n",
        "        distances_best = np.sqrt(((weighted_data - ideal_best) ** 2).sum(axis=1))\n",
        "        distances_worst = np.sqrt(((weighted_data - ideal_worst) ** 2).sum(axis=1))\n",
        "\n",
        "        # Calculate scores and rank\n",
        "        scores = distances_worst / (distances_best + distances_worst)\n",
        "        ranks = scores.argsort()[::-1] + 1\n",
        "\n",
        "        # Append results to DataFrame\n",
        "        df['Topsis Score'] = scores\n",
        "        df['Rank'] = ranks\n",
        "\n",
        "        # Save results\n",
        "        df.to_csv(output_file, index=False)\n",
        "        print(f\"Results saved to: {output_file}\")\n",
        "\n",
        "    except FileNotFoundError:\n",
        "        print(f\"Error: File {input_file} not found.\")\n",
        "    except Exception as e:\n",
        "        print(f\"Error: {e}\")\n",
        "\n",
        "topsis(\"102203783-data.csv\", \"1,1,1,2\", \"+,+,-,+\", \"102203783-result.csv\")\n"
      ],
      "metadata": {
        "colab": {
          "base_uri": "https://localhost:8080/"
        },
        "id": "itdmorSdyIXi",
        "outputId": "7d5f5e4c-2cc3-4f78-9e25-51a64ebf3e23"
      },
      "execution_count": null,
      "outputs": [
        {
          "output_type": "stream",
          "name": "stdout",
          "text": [
            "Loading file: 102203783-data.csv\n",
            "Dataset loaded successfully. Columns: ['Fund Name', 'P1', 'P2', 'P3', 'P4', 'P5']\n",
            "Number of columns (excluding the first): 5\n",
            "Weights: [1.0, 1.0, 1.0, 2.0]\n",
            "Impacts: ['+', '+', '-', '+']\n",
            "Number of weights: 4\n",
            "Number of impacts: 4\n",
            "Number of numeric columns: 5\n",
            "Error: Number of weights and impacts must match the number of numeric columns.\n"
          ]
        }
      ]
    },
    {
      "cell_type": "code",
      "source": [
        "topsis(\"102203783-data.csv\", \"1,1,1,2,1\", \"+,+,-,+,-\", \"102203783-result.csv\")\n"
      ],
      "metadata": {
        "colab": {
          "base_uri": "https://localhost:8080/"
        },
        "id": "LIfjN_Awyuos",
        "outputId": "7d1954fa-47f8-4c52-8e48-43bc2da25418"
      },
      "execution_count": null,
      "outputs": [
        {
          "output_type": "stream",
          "name": "stdout",
          "text": [
            "Loading file: 102203783-data.csv\n",
            "Dataset loaded successfully. Columns: ['Fund Name', 'P1', 'P2', 'P3', 'P4', 'P5']\n",
            "Number of columns (excluding the first): 5\n",
            "Weights: [1.0, 1.0, 1.0, 2.0, 1.0]\n",
            "Impacts: ['+', '+', '-', '+', '-']\n",
            "Data normalized successfully.\n",
            "Weights applied successfully.\n",
            "Ideal Best: [0.3928723704909395, 0.42686270006394605, 0.21386185766562923, 0.9530608552257642, 0.2698079449705219]\n",
            "Ideal Worst: [0.27584655800427665, 0.21343135003197303, 0.4403038246057073, 0.4857239406857994, 0.45128114237898376]\n",
            "Results saved to: 102203783-result.csv\n"
          ]
        }
      ]
    },
    {
      "cell_type": "code",
      "source": [
        "!python3 102203783.py 102203783-data.csv \"1,1,1,2\" \"+,+,-,+\" 102203783-result.csv\n"
      ],
      "metadata": {
        "colab": {
          "base_uri": "https://localhost:8080/"
        },
        "id": "exYC-tWy5EUm",
        "outputId": "f012fe71-c13d-4151-92a3-26bcb77d8f53"
      },
      "execution_count": null,
      "outputs": [
        {
          "output_type": "stream",
          "name": "stdout",
          "text": [
            "python3: can't open file '/content/102203783.py': [Errno 2] No such file or directory\n"
          ]
        }
      ]
    },
    {
      "cell_type": "code",
      "source": [
        "!mkdir Topsis-DhwaniGoyal-102203783\n",
        "!mkdir Topsis-DhwaniGoyal-102203783/topsis\n"
      ],
      "metadata": {
        "id": "lHW1HDra0GzJ"
      },
      "execution_count": null,
      "outputs": []
    },
    {
      "cell_type": "code",
      "source": [
        "!pip install pandas numpy\n"
      ],
      "metadata": {
        "colab": {
          "base_uri": "https://localhost:8080/"
        },
        "id": "GapYUaus1N88",
        "outputId": "29f58604-d015-4266-e502-ee74d14cc89e"
      },
      "execution_count": null,
      "outputs": [
        {
          "output_type": "stream",
          "name": "stdout",
          "text": [
            "Requirement already satisfied: pandas in /usr/local/lib/python3.11/dist-packages (2.2.2)\n",
            "Requirement already satisfied: numpy in /usr/local/lib/python3.11/dist-packages (1.26.4)\n",
            "Requirement already satisfied: python-dateutil>=2.8.2 in /usr/local/lib/python3.11/dist-packages (from pandas) (2.8.2)\n",
            "Requirement already satisfied: pytz>=2020.1 in /usr/local/lib/python3.11/dist-packages (from pandas) (2024.2)\n",
            "Requirement already satisfied: tzdata>=2022.7 in /usr/local/lib/python3.11/dist-packages (from pandas) (2024.2)\n",
            "Requirement already satisfied: six>=1.5 in /usr/local/lib/python3.11/dist-packages (from python-dateutil>=2.8.2->pandas) (1.17.0)\n"
          ]
        }
      ]
    },
    {
      "cell_type": "code",
      "source": [
        "!touch Topsis-DhwaniGoyal-102203783/topsis/__init__.py\n",
        "\n"
      ],
      "metadata": {
        "id": "9T2g_rdE1S5u"
      },
      "execution_count": null,
      "outputs": []
    },
    {
      "cell_type": "code",
      "source": [
        "!touch Topsis-DhwaniGoyal-102203783/topsis/topsis.py\n",
        "\n"
      ],
      "metadata": {
        "id": "W1ielX_w2lVJ"
      },
      "execution_count": null,
      "outputs": []
    },
    {
      "cell_type": "code",
      "source": [
        "!touch Topsis-DhwaniGoyal-102203783/setup.py\n"
      ],
      "metadata": {
        "id": "8mA1_AtS2uE1"
      },
      "execution_count": null,
      "outputs": []
    },
    {
      "cell_type": "code",
      "source": [
        "!python3 setup.py sdist\n"
      ],
      "metadata": {
        "colab": {
          "base_uri": "https://localhost:8080/"
        },
        "id": "1FQniZek86qr",
        "outputId": "f95ac0b3-b7ca-43a9-b3df-96270af82061"
      },
      "execution_count": null,
      "outputs": [
        {
          "output_type": "stream",
          "name": "stdout",
          "text": [
            "python3: can't open file '/content/setup.py': [Errno 2] No such file or directory\n"
          ]
        }
      ]
    },
    {
      "cell_type": "code",
      "source": [
        "!touch Topsis-DhwaniGoyal-102203783/README.md\n"
      ],
      "metadata": {
        "id": "HfdYXXe92wqR"
      },
      "execution_count": null,
      "outputs": []
    },
    {
      "cell_type": "code",
      "source": [
        "# Write content to README.md file\n",
        "readme_content = \"\"\"\n",
        "# Topsis-Dhwani-102203783 - A Python Package for Decision Analysis\n",
        "\n",
        "Topsis-Dhwani-102203783 is a Python package that implements the Technique for Order of Preference by Similarity to Ideal Solution (TOPSIS). This method helps in multi-criteria decision-making, enabling users to rank alternatives based on given criteria, weights, and impacts.\n",
        "\n",
        "## Overview\n",
        "\n",
        "The Topsis package offers:\n",
        "- **Ease of Use**: A command-line interface for quick results.\n",
        "- **Customizable Inputs**: Allows users to define weights and impacts for each criterion.\n",
        "- **Automated Ranking**: Generates TOPSIS scores and ranks alternatives.\n",
        "\n",
        "## Installation\n",
        "\n",
        "You can install the package directly from PyPI using pip:\n",
        "\n",
        "pip install Topsis-Dhwani-102203783\n",
        "\n",
        "## Usage\n",
        "\n",
        "To use the package:\n",
        "python Topsis-Dhwani-102203783.py 102203783-data.csv \"1,1,1,2\" \"+,+,-,+\" 102203783-result.csv\n",
        "\n",
        "\n",
        "## Author\n",
        "\n",
        "Dhwani Goyal\n",
        "Email: dgoyal_be22@thapar.edu\n",
        "GitHub: [Dhwani Goyal](https://github.com/Dhwanigoyal)\n",
        "\"\"\"\n",
        "\n",
        "# Save content to README.md file\n",
        "with open(\"README.md\", \"w\") as f:\n",
        "    f.write(readme_content)\n"
      ],
      "metadata": {
        "id": "lnoL_yqIm05Y"
      },
      "execution_count": null,
      "outputs": []
    },
    {
      "cell_type": "code",
      "source": [
        "pip install twine\n"
      ],
      "metadata": {
        "colab": {
          "base_uri": "https://localhost:8080/"
        },
        "id": "Iss_VJck6TEn",
        "outputId": "f2731c1d-e703-470b-fcfc-dce52cac6925"
      },
      "execution_count": null,
      "outputs": [
        {
          "output_type": "stream",
          "name": "stdout",
          "text": [
            "Collecting twine\n",
            "  Downloading twine-6.0.1-py3-none-any.whl.metadata (3.7 kB)\n",
            "Collecting pkginfo>=1.8.1 (from twine)\n",
            "  Downloading pkginfo-1.12.0-py3-none-any.whl.metadata (12 kB)\n",
            "Collecting readme-renderer>=35.0 (from twine)\n",
            "  Downloading readme_renderer-44.0-py3-none-any.whl.metadata (2.8 kB)\n",
            "Requirement already satisfied: requests>=2.20 in /usr/local/lib/python3.11/dist-packages (from twine) (2.32.3)\n",
            "Requirement already satisfied: requests-toolbelt!=0.9.0,>=0.8.0 in /usr/local/lib/python3.11/dist-packages (from twine) (1.0.0)\n",
            "Requirement already satisfied: urllib3>=1.26.0 in /usr/local/lib/python3.11/dist-packages (from twine) (2.3.0)\n",
            "Requirement already satisfied: keyring>=15.1 in /usr/lib/python3/dist-packages (from twine) (23.5.0)\n",
            "Collecting rfc3986>=1.4.0 (from twine)\n",
            "  Downloading rfc3986-2.0.0-py2.py3-none-any.whl.metadata (6.6 kB)\n",
            "Requirement already satisfied: rich>=12.0.0 in /usr/local/lib/python3.11/dist-packages (from twine) (13.9.4)\n",
            "Requirement already satisfied: packaging in /usr/local/lib/python3.11/dist-packages (from twine) (24.2)\n",
            "Collecting nh3>=0.2.14 (from readme-renderer>=35.0->twine)\n",
            "  Downloading nh3-0.2.20-cp38-abi3-manylinux_2_17_x86_64.manylinux2014_x86_64.whl.metadata (2.0 kB)\n",
            "Requirement already satisfied: docutils>=0.21.2 in /usr/local/lib/python3.11/dist-packages (from readme-renderer>=35.0->twine) (0.21.2)\n",
            "Requirement already satisfied: Pygments>=2.5.1 in /usr/local/lib/python3.11/dist-packages (from readme-renderer>=35.0->twine) (2.18.0)\n",
            "Requirement already satisfied: charset-normalizer<4,>=2 in /usr/local/lib/python3.11/dist-packages (from requests>=2.20->twine) (3.4.1)\n",
            "Requirement already satisfied: idna<4,>=2.5 in /usr/local/lib/python3.11/dist-packages (from requests>=2.20->twine) (3.10)\n",
            "Requirement already satisfied: certifi>=2017.4.17 in /usr/local/lib/python3.11/dist-packages (from requests>=2.20->twine) (2024.12.14)\n",
            "Requirement already satisfied: markdown-it-py>=2.2.0 in /usr/local/lib/python3.11/dist-packages (from rich>=12.0.0->twine) (3.0.0)\n",
            "Requirement already satisfied: mdurl~=0.1 in /usr/local/lib/python3.11/dist-packages (from markdown-it-py>=2.2.0->rich>=12.0.0->twine) (0.1.2)\n",
            "Downloading twine-6.0.1-py3-none-any.whl (39 kB)\n",
            "Downloading pkginfo-1.12.0-py3-none-any.whl (32 kB)\n",
            "Downloading readme_renderer-44.0-py3-none-any.whl (13 kB)\n",
            "Downloading rfc3986-2.0.0-py2.py3-none-any.whl (31 kB)\n",
            "Downloading nh3-0.2.20-cp38-abi3-manylinux_2_17_x86_64.manylinux2014_x86_64.whl (744 kB)\n",
            "\u001b[2K   \u001b[90m━━━━━━━━━━━━━━━━━━━━━━━━━━━━━━━━━━━━━━━━\u001b[0m \u001b[32m744.4/744.4 kB\u001b[0m \u001b[31m12.2 MB/s\u001b[0m eta \u001b[36m0:00:00\u001b[0m\n",
            "\u001b[?25hInstalling collected packages: rfc3986, pkginfo, nh3, readme-renderer, twine\n",
            "Successfully installed nh3-0.2.20 pkginfo-1.12.0 readme-renderer-44.0 rfc3986-2.0.0 twine-6.0.1\n"
          ]
        }
      ]
    },
    {
      "cell_type": "code",
      "source": [
        "pip install setuptools twine\n"
      ],
      "metadata": {
        "colab": {
          "base_uri": "https://localhost:8080/"
        },
        "id": "uRckK0h46U2-",
        "outputId": "a6aa3244-f6eb-4902-f4fb-4dc5ec636e30"
      },
      "execution_count": null,
      "outputs": [
        {
          "output_type": "stream",
          "name": "stdout",
          "text": [
            "Requirement already satisfied: setuptools in /usr/local/lib/python3.11/dist-packages (75.1.0)\n",
            "Requirement already satisfied: twine in /usr/local/lib/python3.11/dist-packages (6.0.1)\n",
            "Requirement already satisfied: pkginfo>=1.8.1 in /usr/local/lib/python3.11/dist-packages (from twine) (1.12.0)\n",
            "Requirement already satisfied: readme-renderer>=35.0 in /usr/local/lib/python3.11/dist-packages (from twine) (44.0)\n",
            "Requirement already satisfied: requests>=2.20 in /usr/local/lib/python3.11/dist-packages (from twine) (2.32.3)\n",
            "Requirement already satisfied: requests-toolbelt!=0.9.0,>=0.8.0 in /usr/local/lib/python3.11/dist-packages (from twine) (1.0.0)\n",
            "Requirement already satisfied: urllib3>=1.26.0 in /usr/local/lib/python3.11/dist-packages (from twine) (2.3.0)\n",
            "Requirement already satisfied: keyring>=15.1 in /usr/lib/python3/dist-packages (from twine) (23.5.0)\n",
            "Requirement already satisfied: rfc3986>=1.4.0 in /usr/local/lib/python3.11/dist-packages (from twine) (2.0.0)\n",
            "Requirement already satisfied: rich>=12.0.0 in /usr/local/lib/python3.11/dist-packages (from twine) (13.9.4)\n",
            "Requirement already satisfied: packaging in /usr/local/lib/python3.11/dist-packages (from twine) (24.2)\n",
            "Requirement already satisfied: nh3>=0.2.14 in /usr/local/lib/python3.11/dist-packages (from readme-renderer>=35.0->twine) (0.2.20)\n",
            "Requirement already satisfied: docutils>=0.21.2 in /usr/local/lib/python3.11/dist-packages (from readme-renderer>=35.0->twine) (0.21.2)\n",
            "Requirement already satisfied: Pygments>=2.5.1 in /usr/local/lib/python3.11/dist-packages (from readme-renderer>=35.0->twine) (2.18.0)\n",
            "Requirement already satisfied: charset-normalizer<4,>=2 in /usr/local/lib/python3.11/dist-packages (from requests>=2.20->twine) (3.4.1)\n",
            "Requirement already satisfied: idna<4,>=2.5 in /usr/local/lib/python3.11/dist-packages (from requests>=2.20->twine) (3.10)\n",
            "Requirement already satisfied: certifi>=2017.4.17 in /usr/local/lib/python3.11/dist-packages (from requests>=2.20->twine) (2024.12.14)\n",
            "Requirement already satisfied: markdown-it-py>=2.2.0 in /usr/local/lib/python3.11/dist-packages (from rich>=12.0.0->twine) (3.0.0)\n",
            "Requirement already satisfied: mdurl~=0.1 in /usr/local/lib/python3.11/dist-packages (from markdown-it-py>=2.2.0->rich>=12.0.0->twine) (0.1.2)\n"
          ]
        }
      ]
    },
    {
      "cell_type": "code",
      "source": [
        "!echo \"include README.md\" > MANIFEST.in\n"
      ],
      "metadata": {
        "id": "5hynfgACiN6q"
      },
      "execution_count": null,
      "outputs": []
    },
    {
      "cell_type": "code",
      "source": [
        "!python3 /content/Topsis-DhwaniGoyal-102203783/setup.py sdist\n"
      ],
      "metadata": {
        "colab": {
          "base_uri": "https://localhost:8080/"
        },
        "id": "r4s4j3pgiPwr",
        "outputId": "e29c5375-ae7e-4136-ba3b-818c3e8e7735"
      },
      "execution_count": null,
      "outputs": [
        {
          "output_type": "stream",
          "name": "stdout",
          "text": [
            "running sdist\n",
            "running egg_info\n",
            "creating Topsis_Dhwani_102203783.egg-info\n",
            "writing Topsis_Dhwani_102203783.egg-info/PKG-INFO\n",
            "writing dependency_links to Topsis_Dhwani_102203783.egg-info/dependency_links.txt\n",
            "writing requirements to Topsis_Dhwani_102203783.egg-info/requires.txt\n",
            "writing top-level names to Topsis_Dhwani_102203783.egg-info/top_level.txt\n",
            "writing manifest file 'Topsis_Dhwani_102203783.egg-info/SOURCES.txt'\n",
            "reading manifest file 'Topsis_Dhwani_102203783.egg-info/SOURCES.txt'\n",
            "reading manifest template 'MANIFEST.in'\n",
            "writing manifest file 'Topsis_Dhwani_102203783.egg-info/SOURCES.txt'\n",
            "running check\n",
            "creating topsis_dhwani_102203783-1.0.1\n",
            "creating topsis_dhwani_102203783-1.0.1/Topsis_Dhwani_102203783.egg-info\n",
            "copying files to topsis_dhwani_102203783-1.0.1...\n",
            "copying MANIFEST.in -> topsis_dhwani_102203783-1.0.1\n",
            "copying README.md -> topsis_dhwani_102203783-1.0.1\n",
            "copying Topsis_Dhwani_102203783.egg-info/PKG-INFO -> topsis_dhwani_102203783-1.0.1/Topsis_Dhwani_102203783.egg-info\n",
            "copying Topsis_Dhwani_102203783.egg-info/SOURCES.txt -> topsis_dhwani_102203783-1.0.1/Topsis_Dhwani_102203783.egg-info\n",
            "copying Topsis_Dhwani_102203783.egg-info/dependency_links.txt -> topsis_dhwani_102203783-1.0.1/Topsis_Dhwani_102203783.egg-info\n",
            "copying Topsis_Dhwani_102203783.egg-info/requires.txt -> topsis_dhwani_102203783-1.0.1/Topsis_Dhwani_102203783.egg-info\n",
            "copying Topsis_Dhwani_102203783.egg-info/top_level.txt -> topsis_dhwani_102203783-1.0.1/Topsis_Dhwani_102203783.egg-info\n",
            "copying Topsis_Dhwani_102203783.egg-info/SOURCES.txt -> topsis_dhwani_102203783-1.0.1/Topsis_Dhwani_102203783.egg-info\n",
            "Writing topsis_dhwani_102203783-1.0.1/setup.cfg\n",
            "Creating tar archive\n",
            "removing 'topsis_dhwani_102203783-1.0.1' (and everything under it)\n"
          ]
        }
      ]
    }
  ]
}